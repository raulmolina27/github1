{
  "nbformat": 4,
  "nbformat_minor": 0,
  "metadata": {
    "colab": {
      "provenance": []
    },
    "kernelspec": {
      "name": "python3",
      "display_name": "Python 3"
    },
    "language_info": {
      "name": "python"
    }
  },
  "cells": [
    {
      "cell_type": "code",
      "execution_count": null,
      "metadata": {
        "colab": {
          "base_uri": "https://localhost:8080/"
        },
        "id": "x6cM4BEaV0vj",
        "outputId": "58586909-f394-4c9f-b41f-270f08952b00"
      },
      "outputs": [
        {
          "output_type": "stream",
          "name": "stdout",
          "text": [
            "ingrese un numero A 3\n",
            "ingrese numero B 3\n",
            "igual\n"
          ]
        }
      ],
      "source": [
        "A= int(input(\"ingrese un numero A \"))\n",
        "B= int(input(\"ingrese numero B \"))\n",
        "if A>B:\n",
        "  print(\"Mayor\")\n",
        "if A==B:\n",
        "  print(\"igual\")\n",
        "if A<B:\n",
        "  print(\"menor\")"
      ]
    },
    {
      "cell_type": "code",
      "source": [
        "c=int(input(\"ingrese nota 1 \"))\n",
        "d=int(input(\"ingrese nota 2 \"))\n",
        "f=int(input(\"ingrese nota 3 \"))\n",
        "g=int(input(\"ingrese nota 4 \"))\n",
        "h=int(input(\"ingrese nota 5 \"))\n",
        "valores=[c,d,f,g,h]\n",
        "porcentajes=[0.3,0.15,0.15,0.2,0.2]\n",
        "sumaproductos = sum([valor * porcentaje for valor, porcentaje in zip(valores, porcentajes)])\n",
        "sumaporcentajes = sum(porcentajes)\n",
        "promedioponderado = sumaproductos / sumaporcentajes\n",
        "print(promedioponderado)\n",
        "if promedioponderado >=3:\n",
        "  print(\"Aprobado\")\n",
        "if promedioponderado <3:\n",
        "  print(\"Desaprobado\")"
      ],
      "metadata": {
        "colab": {
          "base_uri": "https://localhost:8080/"
        },
        "id": "w49FpudiXFCf",
        "outputId": "32553108-f08c-4bc2-9b89-5cefdf48c380"
      },
      "execution_count": null,
      "outputs": [
        {
          "output_type": "stream",
          "name": "stdout",
          "text": [
            "ingrese nota 1 3\n",
            "ingrese nota 2 5\n",
            "ingrese nota 3 4\n",
            "ingrese nota 4 2\n",
            "ingrese nota 5 4\n",
            "3.45\n",
            "Aprobado\n"
          ]
        }
      ]
    },
    {
      "cell_type": "code",
      "source": [
        "y= int(input(\"Ingrese un numero \"))\n",
        "z= int(input(\"Ingrese un numero \"))\n",
        "if y>z:\n",
        "  x=1\n",
        "if y==z:\n",
        "  x=2\n",
        "if y<z:\n",
        "  x=3\n",
        "print(x)"
      ],
      "metadata": {
        "colab": {
          "base_uri": "https://localhost:8080/"
        },
        "id": "Gyvc-msrawX3",
        "outputId": "84f0c2d8-9ce6-4c4b-a523-da4a3d20cb38"
      },
      "execution_count": null,
      "outputs": [
        {
          "output_type": "stream",
          "name": "stdout",
          "text": [
            "Ingrese un numero 4\n",
            "Ingrese un numero 6\n",
            "3\n"
          ]
        }
      ]
    },
    {
      "cell_type": "code",
      "source": [],
      "metadata": {
        "id": "5ytZrNLbbjW3"
      },
      "execution_count": null,
      "outputs": []
    }
  ]
}